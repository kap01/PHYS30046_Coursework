{
 "cells": [
  {
   "cell_type": "markdown",
   "id": "0e23cac7-f695-4b46-8858-3ca33c570038",
   "metadata": {},
   "source": [
    "# Determining the number of neutrino generations from Z-boson decays #\n",
    "\n",
    "In this exercise, you will take a closer look at the $e^+e^-\\to\\mu^+\\mu^-$ process. By the end of this exercise, you should have developed a good understanding of the lineshape of the Z-boson resonance and the meaning of partial and total decay widths. You will have learned how to generate \"toy\" events and how to fit a functional form to a (simulated) data histogram, extracting a parameter of interest."
   ]
  },
  {
   "cell_type": "code",
   "execution_count": 12,
   "id": "4bd789d7-b165-470b-b9b6-cd2cc5390f64",
   "metadata": {
    "ExecuteTime": {
     "end_time": "2025-08-01T14:26:38.420281Z",
     "start_time": "2025-08-01T14:26:38.414933Z"
    }
   },
   "outputs": [],
   "source": [
    "from utils import *"
   ]
  },
  {
   "cell_type": "markdown",
   "id": "4ea5ab51-02ed-4574-9e7e-126b34796d29",
   "metadata": {},
   "source": [
    "# This coursework makes use of the techniques described in the example notebook within this repository. #"
   ]
  },
  {
   "cell_type": "markdown",
   "id": "a19e429d-8ec9-4616-ac1a-e5184e9bd966",
   "metadata": {
    "jp-MarkdownHeadingCollapsed": true
   },
   "source": [
    "## The expression below gives the cross section of the processes $e^{+}e^{-}\\rightarrow  \\mu^+\\mu^-$, as a function of the centre of mass energy $\\sqrt{s}$. The parameters $m_{Z}$, $\\Gamma_{Z}$ denote the mass and width of the $Z^0$ boson respectively ##\n",
    "\n",
    "$$\\sigma(e^{+}e^{-}\\rightarrow  \\mu^+\\mu^-) = \\frac{12\\pi s}{m_{Z}^{2}}\\frac{\\Gamma_{e^+e^-}\\Gamma_{\\mu^+\\mu^-}}{(s-m_{Z}^{2})^{2}+m_{Z}^{2}\\Gamma_{Z}^{2}}$$"
   ]
  },
  {
   "cell_type": "markdown",
   "id": "8d5e6509-ae83-496e-a800-e3a694898267",
   "metadata": {},
   "source": [
    "# Question 1 [8 marks] #\n",
    "\n",
    "- What is the key assumption regarding the range of $\\sqrt{s}$ values for which the above expression holds?\n",
    "- What is the physical meaning of $\\Gamma_Z$?\n",
    "- What is the physical meaning of $\\Gamma_{e^+e^-}$ and $\\Gamma_{\\mu^+\\mu^-}$?"
   ]
  },
  {
   "cell_type": "markdown",
   "id": "267775f2-380e-49dd-bf42-bc2438d7c64a",
   "metadata": {},
   "source": [
    "# Question 2 [4 marks] # \n",
    "- Make a plot of the cross-section expression given above as a function of the centre of mass energy $\\sqrt{s}$ in the range between 1 and 120GeV, using the following values of the parameters $m_Z$, $\\Gamma_Z$, $\\Gamma_{e^+e^-}$, $\\Gamma_{\\mu^+\\mu^-}$:\\\n",
    "$m_Z=91.18$GeV\\\n",
    "$\\Gamma_Z=2.496$GeV\\\n",
    "$\\Gamma_{e^+e^-}=\\Gamma_{\\mu^+\\mu^-}=0.084$GeV"
   ]
  },
  {
   "cell_type": "markdown",
   "id": "59c1f3c7",
   "metadata": {},
   "source": [
    "# Question 3 [8 marks] #\n",
    "- Starting from the value of $\\Gamma_Z$ given in the cell above, explain how we arrived at the values of the parameters $\\Gamma_{e^+e^-}$ and $\\Gamma_{\\mu^+\\mu^-}$ given in the cell above. You are given that $\\rm{BF(Z^0\\to e^+e^-)} = \\rm{BF(Z^0\\to \\mu^+\\mu^-)} = 3.366\\%$ \n",
    "- The plot you have made in Question 2 should show that the cross-section drops at around 1GeV. Is this what you would expect to observe in an $e^+e^-\\to \\mu^+\\mu^-$ process? **Hint: Think of what other force carrier can mediate the $e^+e^-\\to\\mu^+\\mu^-$ process?** "
   ]
  },
  {
   "cell_type": "markdown",
   "id": "47514a48",
   "metadata": {},
   "source": [
    "# Question 4 [12 marks] #\n",
    "- Which parameter would you modify in the expression of the cross section given above in order to describe the process $e^+e^- \\to\\mathrm{hadrons}$?\n",
    "- What would be the telling signature of $e^+e^- \\to Z^{0}\\to\\mathrm{q\\bar{q}}$ where $q$ denotes a quark?  \n",
    "- For an onshell $Z^0$ boson, what quark pairs can the $Z^0$ decay into?\n"
   ]
  },
  {
   "cell_type": "markdown",
   "id": "b49ceb62-9876-42fa-891b-bea1914b1bb6",
   "metadata": {},
   "source": [
    "# Question 5 [12 marks] #\n",
    "- The example notebook (particle_project_example.ipynb) shows you how to generate a set of events from a given distribution using the \"gen_data\" function of utils.py. Using this function, generate 20,000,000 values of $\\sqrt{s}$ sampled from the cross-section expression for $e^+e^- \\to Z^{0}\\to\\mathrm{\\mu^+\\mu^-}$ you used in Question 2. Make sure you set the $\\sqrt{s}$ range of values to generate as $87~\\rm{GeV}<\\sqrt{s}<95~\\rm{GeV}$"
   ]
  },
  {
   "cell_type": "markdown",
   "id": "c767576c-8163-4a49-a0f6-7ff62c571e3a",
   "metadata": {},
   "source": [
    "# Question 6 [8 marks]\n",
    "- Make a histogram of the $\\sqrt{s}$  values you generated in Question 5.  **Hint: Make sure that the x-axis range of the histogram matches that of data you generated.**"
   ]
  },
  {
   "cell_type": "markdown",
   "id": "2ec09b96-697d-44d2-85ec-c20cb227a8fa",
   "metadata": {
    "collapsed": true,
    "jupyter": {
     "outputs_hidden": true
    }
   },
   "source": [
    "# Question 7 [28 marks] #\n",
    "- Devise an approach to determine the number of generations of neutrinos by performing a fit to the histogram you created in the previous cell. \n",
    "    - You are given that in the SM: $\\Gamma_{l^+l^-}=2\\Gamma_{\\nu_{l}\\bar{\\nu}_{l}}$, where $l$ denotes a specific lepton generation\n",
    "    - You can also assume the values: $\\Gamma_{q\\bar{q}}=1.744$GeV, $\\Gamma_{e^+e^-}=\\Gamma_{\\mu^+\\mu^-}=\\Gamma_{\\tau^+\\tau^-}=0.083984$GeV\n",
    "\n",
    "**Hint: Take a look at particle_project_example.ipynb for an example of how to fit a function to a histogram**"
   ]
  },
  {
   "cell_type": "markdown",
   "id": "d001094a-381e-4e9e-b17f-4b8ec28cc6fc",
   "metadata": {},
   "source": [
    "# Question 8 [20 marks] #\n",
    "\n",
    "- Is the number you obtained from your fit statistically compatible with three generations?\n",
    "- Can you think of systematic uncertainties that have not been accounted for?\n",
    "- Can you think of ways to estimate the effect of systematic uncertainties?"
   ]
  },
  {
   "cell_type": "code",
   "execution_count": null,
   "id": "2993928c-c07e-4363-be4b-e87774b6b62f",
   "metadata": {},
   "outputs": [],
   "source": []
  }
 ],
 "metadata": {
  "kernelspec": {
   "display_name": "Python 3 (ipykernel)",
   "language": "python",
   "name": "python3"
  },
  "language_info": {
   "codemirror_mode": {
    "name": "ipython",
    "version": 3
   },
   "file_extension": ".py",
   "mimetype": "text/x-python",
   "name": "python",
   "nbconvert_exporter": "python",
   "pygments_lexer": "ipython3",
   "version": "3.11.13"
  }
 },
 "nbformat": 4,
 "nbformat_minor": 5
}
